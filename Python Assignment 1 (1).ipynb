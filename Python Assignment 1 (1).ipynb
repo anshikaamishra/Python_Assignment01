{
 "cells": [
  {
   "cell_type": "code",
   "execution_count": 3,
   "id": "462865e6-4372-4d87-8cae-ee2c2c7afc0f",
   "metadata": {},
   "outputs": [],
   "source": [
    "## 1. Who developed Python Programming Language? "
   ]
  },
  {
   "cell_type": "code",
   "execution_count": 4,
   "id": "c3f9b998-4ae9-4491-bb4d-1e0a33721861",
   "metadata": {},
   "outputs": [],
   "source": [
    "# Guido van Rossum"
   ]
  },
  {
   "cell_type": "code",
   "execution_count": 5,
   "id": "f95990f1-ab3e-4dae-83f8-69d81d115c54",
   "metadata": {},
   "outputs": [],
   "source": [
    "## 2. Which type of Programming does Python support?"
   ]
  },
  {
   "cell_type": "code",
   "execution_count": 6,
   "id": "373965dd-7a17-4e15-9527-be255d58e9c2",
   "metadata": {},
   "outputs": [],
   "source": [
    "# Python is an interpreted programming language, supporting object-oriented, structured, and fuctional programming."
   ]
  },
  {
   "cell_type": "code",
   "execution_count": 7,
   "id": "3905516c-4c42-46ed-b65b-f143da867630",
   "metadata": {},
   "outputs": [],
   "source": [
    "## 3. Is Python case sensitive when dealing with identifiers? "
   ]
  },
  {
   "cell_type": "code",
   "execution_count": 8,
   "id": "5886dc4e-033b-47d0-9a0b-30bcbabbaa5f",
   "metadata": {},
   "outputs": [],
   "source": [
    "# Yes, Python is case sensitive when dealing with identifiers."
   ]
  },
  {
   "cell_type": "code",
   "execution_count": 9,
   "id": "7799d806-df10-48a3-8764-ab51b535db88",
   "metadata": {},
   "outputs": [],
   "source": [
    "## 4. What is the correct extension of the Python file?"
   ]
  },
  {
   "cell_type": "code",
   "execution_count": 10,
   "id": "42a8f3ae-ff48-4752-a933-61f714af25fd",
   "metadata": {},
   "outputs": [],
   "source": [
    "# .py is the extension of the python file."
   ]
  },
  {
   "cell_type": "code",
   "execution_count": 11,
   "id": "253f290d-085e-4ea7-9be1-d44dbe534d87",
   "metadata": {},
   "outputs": [],
   "source": [
    "## 5. Is Python code compiled or interpreted?"
   ]
  },
  {
   "cell_type": "code",
   "execution_count": 12,
   "id": "1e5a3295-1f72-4d64-aa3a-3e9c513b9fa2",
   "metadata": {},
   "outputs": [],
   "source": [
    "# Python code is both compiled as well as interperted."
   ]
  },
  {
   "cell_type": "code",
   "execution_count": 13,
   "id": "f0e1ae20-edc4-487d-8c3a-512a01bac6ec",
   "metadata": {},
   "outputs": [],
   "source": [
    "## 6. Name a few blocks of code used to define in Python language? "
   ]
  },
  {
   "cell_type": "code",
   "execution_count": 14,
   "id": "7f1d48ba-3a79-43b1-980a-c7818370126f",
   "metadata": {},
   "outputs": [],
   "source": [
    "# A module, a function body, and a class definition."
   ]
  },
  {
   "cell_type": "code",
   "execution_count": 15,
   "id": "928cdf4e-49db-4d5f-9fdd-08465a152cee",
   "metadata": {},
   "outputs": [],
   "source": [
    "## 7. State a character used to give single-line comments in Python?"
   ]
  },
  {
   "cell_type": "code",
   "execution_count": 16,
   "id": "9928ec29-f8c8-429c-9eeb-b058c89f8f65",
   "metadata": {},
   "outputs": [],
   "source": [
    "# '#' character is used to give single-line comments in Python."
   ]
  },
  {
   "cell_type": "code",
   "execution_count": 17,
   "id": "288ea4fe-5984-4c55-bb74-0e92b3663dd7",
   "metadata": {},
   "outputs": [],
   "source": [
    "## 8. Mention functions which can help us to find the version of python that we are currently working on?"
   ]
  },
  {
   "cell_type": "code",
   "execution_count": 18,
   "id": "beef6bc4-78ca-476e-ba36-5f2c503098a5",
   "metadata": {},
   "outputs": [],
   "source": [
    "# The function sys.version can help us to find the version of python that we are currently working on."
   ]
  },
  {
   "cell_type": "code",
   "execution_count": 19,
   "id": "557098dd-bf27-438b-923e-4bc13e6307f1",
   "metadata": {},
   "outputs": [],
   "source": [
    "## 9. Python supports the creation of anonymous functions at runtime, using a construct called lambda."
   ]
  },
  {
   "cell_type": "code",
   "execution_count": 20,
   "id": "508d9470-d5d1-4032-8419-d7061244fd5e",
   "metadata": {},
   "outputs": [],
   "source": [
    "## 10. What does pip stand for python? "
   ]
  },
  {
   "cell_type": "code",
   "execution_count": 21,
   "id": "8b62fb3c-fa2c-4cd1-9e9d-6d5bb1a089e3",
   "metadata": {},
   "outputs": [],
   "source": [
    "# pip stands for \"Pip Installs Packages\"."
   ]
  },
  {
   "cell_type": "code",
   "execution_count": 22,
   "id": "461d50bf-3c59-43ec-8570-8bd286080a7f",
   "metadata": {},
   "outputs": [],
   "source": [
    "## 11. Mention a few built-in functions in Python? "
   ]
  },
  {
   "cell_type": "code",
   "execution_count": 23,
   "id": "e1a3cd17-d72b-4c6c-bba7-60fc0effebb1",
   "metadata": {},
   "outputs": [],
   "source": [
    "# complex(), dict(), dir(), float(), int(), input(), len(), list().  "
   ]
  },
  {
   "cell_type": "code",
   "execution_count": 24,
   "id": "c16a4e24-9844-41e0-ac19-9b8da496f819",
   "metadata": {},
   "outputs": [],
   "source": [
    "## 12. What is the maximum possible length of an identifier in Python?"
   ]
  },
  {
   "cell_type": "code",
   "execution_count": 25,
   "id": "0df1d90d-6f62-428b-be96-bc58d1788569",
   "metadata": {},
   "outputs": [],
   "source": [
    "# An identifier can have a maximum length of 79 characters in Python."
   ]
  },
  {
   "cell_type": "code",
   "execution_count": 26,
   "id": "27bdaab9-3ad5-4fe4-99d5-d685b3c8cf10",
   "metadata": {},
   "outputs": [],
   "source": [
    "## 13. What are the benefits of using Python?"
   ]
  },
  {
   "cell_type": "code",
   "execution_count": 27,
   "id": "1e660c1a-2ca0-44c6-a85a-1564a1bb7d60",
   "metadata": {},
   "outputs": [],
   "source": [
    "# 1. User-friendly data structures.\n",
    "# 2. Open source.\n",
    "# 3. Easy to read, write and learn.\n",
    "# 4. High-level language.\n",
    "# 5. Object-Oriented Programming.\n",
    "# 6. Portable and Interactive.\n",
    "# 7. Extensive support libraries."
   ]
  },
  {
   "cell_type": "code",
   "execution_count": 28,
   "id": "6cef7e03-644e-4cfb-9b9e-1e5e777e21d1",
   "metadata": {},
   "outputs": [],
   "source": [
    "## 14. How is memory managed in Python? "
   ]
  },
  {
   "cell_type": "code",
   "execution_count": 29,
   "id": "2ec6405c-85b0-4e2f-8858-e64d3afb3672",
   "metadata": {},
   "outputs": [],
   "source": [
    "# Memory allocation can be defined as allocating a block of space in the computer memory to a program. Memory management in Python involves the management of a private heap."
   ]
  },
  {
   "cell_type": "code",
   "execution_count": 30,
   "id": "f25a9836-f095-4fe6-a6ef-c5ebe1cbaa35",
   "metadata": {},
   "outputs": [],
   "source": [
    "## 15. How to install Python on Windows and set path variables?"
   ]
  },
  {
   "cell_type": "code",
   "execution_count": 31,
   "id": "7efc6c66-79a5-4e20-8016-aa595f233ed6",
   "metadata": {},
   "outputs": [],
   "source": [
    "# Installation of Python:\n",
    "#     Install python from www.python.org in your pc.\n",
    "#     Run the .exe file.\n",
    "# Set Path:\n",
    "#     Go to properties.\n",
    "#     Click Advanced System settings.\n",
    "#     Click on environment variable tab.\n",
    "#     Click on new tab of user variables.\n",
    "#     Write path in variable name.\n",
    "#     Copy the path of Python folder.\n",
    "#     Paste path of Python in variable name.\n",
    "#     Click on OK button."
   ]
  },
  {
   "cell_type": "code",
   "execution_count": 32,
   "id": "5d1eae80-d437-451b-a3eb-f58833945557",
   "metadata": {},
   "outputs": [],
   "source": [
    "## 16. Is indentation required in python?"
   ]
  },
  {
   "cell_type": "code",
   "execution_count": 33,
   "id": "90c00c7e-0864-4b27-a4ae-267372dd0691",
   "metadata": {},
   "outputs": [],
   "source": [
    "# Yes, indentation is required in python."
   ]
  },
  {
   "cell_type": "code",
   "execution_count": null,
   "id": "e9a7eee6-9395-4b82-b4f8-25d5fd47817f",
   "metadata": {},
   "outputs": [],
   "source": []
  }
 ],
 "metadata": {
  "kernelspec": {
   "display_name": "Python 3 (ipykernel)",
   "language": "python",
   "name": "python3"
  },
  "language_info": {
   "codemirror_mode": {
    "name": "ipython",
    "version": 3
   },
   "file_extension": ".py",
   "mimetype": "text/x-python",
   "name": "python",
   "nbconvert_exporter": "python",
   "pygments_lexer": "ipython3",
   "version": "3.10.8"
  }
 },
 "nbformat": 4,
 "nbformat_minor": 5
}
